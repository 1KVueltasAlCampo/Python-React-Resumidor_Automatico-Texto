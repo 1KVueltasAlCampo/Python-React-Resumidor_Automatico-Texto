{
 "cells": [
  {
   "metadata": {},
   "cell_type": "markdown",
   "source": "# Resumidor Automatico de Texto",
   "id": "da192e322ebeafe1"
  },
  {
   "metadata": {},
   "cell_type": "markdown",
   "source": "El siguiente notebook hace uso de **NLTK** que es una herramienta poderosa y versátil que ofrece una amplia gama de funcionalidades para el procesamiento del lenguaje natural. Se escogió debido a sus capacidades de tokenización de texto, eliminación de palabras vacías y análisis de frecuencia de palabras. Lo que resulta ideal para identificar las palabras clave, determinar la relevancia de cada palabra y, en general, procesar el texto de manera efectiva para crear resúmenes concisos y precisos.",
   "id": "9cc2850ceb34717c"
  },
  {
   "metadata": {},
   "cell_type": "markdown",
   "source": "A continuacion se resaltan los pasos a seguir para realizar el resumen de un texto",
   "id": "7fc6eeb70c37c73b"
  },
  {
   "metadata": {},
   "cell_type": "markdown",
   "source": "## Importar las librerias necesarias",
   "id": "170ace5ec2c2c7e8"
  },
  {
   "metadata": {},
   "cell_type": "markdown",
   "source": [
    "Se utilizaron las siguientes librerías en el desarrollo del script para resumir automáticamente un artículo corto en Python:\n",
    "\n",
    "- **nltk**: Se utiliza esta librería para el procesamiento del lenguaje natural. Se importan varios módulos de `nltk` para el tokenización de palabras y oraciones, así como para obtener una lista de palabras vacías (stopwords) en español.\n",
    "\n",
    "- **heapq**: Se utiliza esta librería para obtener las `n` oraciones más relevantes del texto, basadas en su puntuación."
   ],
   "id": "13d965090ea8edd"
  },
  {
   "metadata": {
    "ExecuteTime": {
     "end_time": "2024-05-26T01:35:26.525425Z",
     "start_time": "2024-05-26T01:35:26.516938Z"
    }
   },
   "cell_type": "code",
   "source": [
    "from nltk.corpus import stopwords\n",
    "from nltk.tokenize import word_tokenize, sent_tokenize\n",
    "import heapq"
   ],
   "id": "77e12f4643fa4afb",
   "outputs": [],
   "execution_count": 137
  },
  {
   "metadata": {},
   "cell_type": "markdown",
   "source": "## Tokenizar el texto",
   "id": "2f2911de72738efe"
  },
  {
   "metadata": {},
   "cell_type": "markdown",
   "source": "A continuacion, se analiza el texto ingresado. Primero, se divide el texto en oraciones procurando no tener en cuenta oraciones vacías. Luego, se calcula la frecuencia de cada palabra en el texto. Finalmente, se normalizan las frecuencias dividiéndolas por la frecuencia máxima encontrada en el texto.\n",
   "id": "9e6bcfbfa9b8240a"
  },
  {
   "metadata": {
    "ExecuteTime": {
     "end_time": "2024-05-26T01:35:26.562295Z",
     "start_time": "2024-05-26T01:35:26.548613Z"
    }
   },
   "cell_type": "code",
   "source": [
    "# Aqui se define el texto a resumir\n",
    "texto = \"\"\"\n",
    "Dentro de los platos tradicionales y típicos de la deliciosa gastronomía lojana estan la deliciosa Cecina, este es un plato tradicional lojano que consiste en un filete muy muy fino de lomo de cerdo. El proceso de obtener el filete \"finitito\"  se conoce como cecinar la carne y por eso recibe el nombre de Cecina.\n",
    "\n",
    "Es un plato muy tradicional en toda la provincia de Loja, y dependiendo del lugar se prepara de forma diferente. La preparación más frecuente es la de secar la cecina al sol y/o aumarla en leña, luego adobar con ajo y sal.\n",
    "\n",
    "Finalmente se asa al carbón o a la plancha. El sabor se determina por la calidad de la carne y el toque secreto lo agrega el aliño.\n",
    "\n",
    "Cuando estes en Loja, debes disfrutar una buena Cecina Lojana, mucho mejor si lo haces en el Emporio Lojano.\n",
    "\n",
    "El edificio emporio lojano, es una de las primeras edificaciones de la ciudad, su decoración simple y elegante, fiel a la Loja de antaño, es el escenario propicio para degustar buena comida en compañia de colegas, amigos y familia.\n",
    "\"\"\""
   ],
   "id": "306ebc8c7fe412a7",
   "outputs": [],
   "execution_count": 138
  },
  {
   "metadata": {
    "ExecuteTime": {
     "end_time": "2024-05-26T01:35:26.571508Z",
     "start_time": "2024-05-26T01:35:26.562295Z"
    }
   },
   "cell_type": "code",
   "source": [
    "# Dividir el texto en oraciones\n",
    "lista_oraciones = [oracion for oracion in texto.split('.') if oracion]\n",
    "\n",
    "frecuencia_palabras = {}\n",
    "palabras_vacias = set(stopwords.words('spanish'))\n",
    "\n",
    "# Calcular la frecuencia de las palabras en el texto\n",
    "for oracion in lista_oraciones:\n",
    "    palabras = word_tokenize(oracion, language=\"spanish\")\n",
    "    for palabra in palabras:\n",
    "        if palabra.isalpha() and palabra not in palabras_vacias:\n",
    "            if palabra not in frecuencia_palabras.keys():\n",
    "                frecuencia_palabras[palabra] = 1\n",
    "            else:\n",
    "                frecuencia_palabras[palabra] += 1\n",
    "\n",
    "# Normalizar las frecuencias de las palabras\n",
    "frecuencia_maxima = max(frecuencia_palabras.values())\n",
    "for palabra in frecuencia_palabras.keys():\n",
    "    frecuencia_palabras[palabra] = frecuencia_palabras[palabra] / frecuencia_maxima\n"
   ],
   "id": "822889e9db5f3cd8",
   "outputs": [],
   "execution_count": 139
  },
  {
   "metadata": {},
   "cell_type": "markdown",
   "source": "## Calcular la puntuación de las oraciones",
   "id": "336ea2bc71bc8014"
  },
  {
   "metadata": {},
   "cell_type": "markdown",
   "source": "Luego, se calcula la puntuación de cada oración en función de la frecuencia de las palabras que contiene. Para cada oración, se suman las frecuencias de las palabras que la componen. Esto permite identificar las oraciones más relevantes del texto, ya que contienen las palabras clave con mayor frecuencia.",
   "id": "bc87e4b3b6dac6b2"
  },
  {
   "metadata": {
    "ExecuteTime": {
     "end_time": "2024-05-26T01:35:26.578624Z",
     "start_time": "2024-05-26T01:35:26.571508Z"
    }
   },
   "cell_type": "code",
   "source": [
    "# Calcular la puntuación de las oraciones\n",
    "puntuacion_oraciones = {}\n",
    "for oracion in lista_oraciones:\n",
    "    for palabra in word_tokenize(oracion, language=\"spanish\"):\n",
    "        if palabra.isalpha() and palabra in frecuencia_palabras.keys():\n",
    "            if oracion not in puntuacion_oraciones.keys():\n",
    "                puntuacion_oraciones[oracion] = frecuencia_palabras[palabra]\n",
    "            else:\n",
    "                puntuacion_oraciones[oracion] += frecuencia_palabras[palabra]\n"
   ],
   "id": "22e6083fd1ecaeaf",
   "outputs": [],
   "execution_count": 140
  },
  {
   "metadata": {},
   "cell_type": "markdown",
   "source": "## Seleccionar las 5 oraciones más relevantes para el resumen",
   "id": "97838db482c929da"
  },
  {
   "metadata": {},
   "cell_type": "markdown",
   "source": "Despues, se seleccionan las 5 oraciones más relevantes para el resumen. Para ello, se utilizan las puntuaciones calculadas anteriormente y se seleccionan las oraciones con las puntuaciones más altas. Si la longitud del resumen supera las 100 palabras, se detiene el proceso y se devuelve el resumen actual.",
   "id": "85e47f4ec3375e46"
  },
  {
   "metadata": {
    "ExecuteTime": {
     "end_time": "2024-05-26T01:35:26.587981Z",
     "start_time": "2024-05-26T01:35:26.580129Z"
    }
   },
   "cell_type": "code",
   "source": [
    "# Seleccionar las 5 oraciones más relevantes para el resumen\n",
    "oraciones_resumen = heapq.nlargest(5, puntuacion_oraciones, key=puntuacion_oraciones.get)\n",
    "\n",
    "# Limitar el resumen a un máximo de 100 palabras\n",
    "resumen = []\n",
    "cantidad_palabras = 0\n",
    "\n",
    "for oracion in oraciones_resumen:\n",
    "    palabras = word_tokenize(oracion, language=\"spanish\")\n",
    "    if cantidad_palabras + len(palabras) <= 100:\n",
    "        resumen.append(oracion)\n",
    "        cantidad_palabras += len(palabras)\n",
    "    else:\n",
    "        break\n",
    "\n",
    "resumen = '.'.join(resumen)\n",
    "# Eliminar Saltos de Linea dobles\n",
    "resumen = resumen.replace('\\n\\n', '\\n')\n"
   ],
   "id": "9158d89f6f41f7f0",
   "outputs": [],
   "execution_count": 141
  },
  {
   "metadata": {},
   "cell_type": "markdown",
   "source": "# Generar una lista de palabras más relevantes",
   "id": "806ac22d247d048e"
  },
  {
   "metadata": {},
   "cell_type": "markdown",
   "source": "Como ultimo paso del proceso, se generan las palabras claves del texto. Para ello, se seleccionan las 5 palabras con mayor frecuencia en el texto, excluyendo las palabras vacías comunes en español.",
   "id": "920785ab39b68a89"
  },
  {
   "metadata": {
    "ExecuteTime": {
     "end_time": "2024-05-26T01:35:26.596025Z",
     "start_time": "2024-05-26T01:35:26.587981Z"
    }
   },
   "cell_type": "code",
   "source": [
    "# Generar un título propuesto basado en las palabras más relevantes\n",
    "palabras_titulo = heapq.nlargest(5, frecuencia_palabras, key=frecuencia_palabras.get)\n",
    "# Se filtran las palabras que no aportan relevancia\n",
    "palabras_titulo_filtradas = [palabra for palabra in palabras_titulo if palabra.lower() not in ['para', 'sobre', 'de', 'en', 'con', 'los', 'las', 'del', 'la', 'el', 'y', 'a', 'un', 'una', 'su', 'sus', 'sus', 'se', 'es', 'que', 'no', 'al', 'o', 'por', 'como', 'lo', 'si', 'para', 'más', 'también', 'hasta', 'pero', 'ante', 'sí', 'sobre', 'tras', 'durante', 'aunque', 'entre', 'así', 'mientras', 'ya', 'cuando', 'donde', 'quien', 'cual', 'cada', 'todo', 'otro', 'otra', 'otros', 'otras', 'algo', 'alguien', 'nadie', 'ninguno', 'ninguna', 'cómo', 'cuál', 'cuáles', 'cuán', 'cuánto', 'cuánta', 'cuántos', 'cuántas', 'qué', 'dónde', 'cómo', 'por qué', 'para qué', 'quién', 'quiénes', 'cuál', 'cuáles']]\n",
    "titulo = ', '.join(palabras_titulo_filtradas).title()\n"
   ],
   "id": "cb71393009c7ac9f",
   "outputs": [],
   "execution_count": 142
  },
  {
   "metadata": {},
   "cell_type": "markdown",
   "source": "# Imprimir el resumen y palabras clave",
   "id": "abf8d4a174a59436"
  },
  {
   "metadata": {},
   "cell_type": "markdown",
   "source": "Finalmente, se imprime el resumen generado y las palabras clave encontradas. El resumen contiene las 5 oraciones más relevantes del texto, limitadas a un máximo de 100 palabras. Las palabras clave se utilizan para intentar resumir el contenido del texto de manera concisa y precisa.",
   "id": "d714ed7105c25342"
  },
  {
   "metadata": {
    "ExecuteTime": {
     "end_time": "2024-05-26T01:35:26.624466Z",
     "start_time": "2024-05-26T01:35:26.611544Z"
    }
   },
   "cell_type": "code",
   "source": [
    "print(f\"Palabras Clave: {titulo} \\n\")\n",
    "print(\"Resumen: \")\n",
    "print(resumen)\n"
   ],
   "id": "69b45e3bea2d80ae",
   "outputs": [
    {
     "name": "stdout",
     "output_type": "stream",
     "text": [
      "Palabras Clave: Cecina, Loja, Deliciosa, Plato \n",
      "\n",
      "Resumen: \n",
      "\n",
      "El edificio emporio lojano, es una de las primeras edificaciones de la ciudad, su decoración simple y elegante, fiel a la Loja de antaño, es el escenario propicio para degustar buena comida en compañia de colegas, amigos y familia.\n",
      "Dentro de los platos tradicionales y típicos de la deliciosa gastronomía lojana estan la deliciosa Cecina, este es un plato tradicional lojano que consiste en un filete muy muy fino de lomo de cerdo.\n",
      "Cuando estes en Loja, debes disfrutar una buena Cecina Lojana, mucho mejor si lo haces en el Emporio Lojano\n"
     ]
    }
   ],
   "execution_count": 143
  },
  {
   "metadata": {},
   "cell_type": "markdown",
   "source": "## Nota Aclaratoria",
   "id": "90b540054aacdaea"
  },
  {
   "metadata": {},
   "cell_type": "markdown",
   "source": "Este notebook contiene el código de manera secuencial y explicativa. Sin embargo, en el proyecto donde se encuentra este archivo, el código está ordenado en funciones para su uso en la API.",
   "id": "5fa752f611f3de3d"
  }
 ],
 "metadata": {
  "kernelspec": {
   "display_name": "Python 3",
   "language": "python",
   "name": "python3"
  },
  "language_info": {
   "codemirror_mode": {
    "name": "ipython",
    "version": 2
   },
   "file_extension": ".py",
   "mimetype": "text/x-python",
   "name": "python",
   "nbconvert_exporter": "python",
   "pygments_lexer": "ipython2",
   "version": "2.7.6"
  }
 },
 "nbformat": 4,
 "nbformat_minor": 5
}
